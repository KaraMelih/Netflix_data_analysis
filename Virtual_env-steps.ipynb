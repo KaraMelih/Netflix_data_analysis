{
 "cells": [
  {
   "cell_type": "markdown",
   "metadata": {},
   "source": [
    "# Steps to Start an Exploratory Data Analysis"
   ]
  },
  {
   "cell_type": "markdown",
   "metadata": {},
   "source": [
    "In the following, I will describe a reproducible workflow. For this purpose, we will\n",
    "\n",
    "- set a virtual environment using conda / pip (Windows 10)\n",
    "- add the virtual environment to our python installation path\n",
    "- work on a series of Exploratory Data Analysis tasks to investigate sample data and create functions\n",
    "- create a library from these analysis to be able to use later\n",
    "- list our packages and save\n",
    "- push everything into a version control system i.e. GitHub"
   ]
  },
  {
   "cell_type": "markdown",
   "metadata": {},
   "source": [
    "## Creating a virtual environment "
   ]
  },
  {
   "cell_type": "markdown",
   "metadata": {},
   "source": [
    "I will describe 2 methods that works for Windows 10. However, the syntax and the procedure is similar for Linux and iOS systems as well. <br>\n",
    "\n",
    "--- <br>\n",
    "### <font color=blue> 1. Using conda  </font>"
   ]
  },
  {
   "cell_type": "markdown",
   "metadata": {},
   "source": [
    "First, launch a command line (terminal). In some machines, you can directly open an anoconda prompt in this case you should be seeind a ```(base)``` in the beginning of your command line. Otherwise, if you have regular windows command line (cmd.exe), you can type ```conda activate``` to activate the base conda environment <br>\n",
    "You should be seeing something similar to <br>\n",
    "\n",
    "```shell\n",
    "(base) C:\\Users\\Computer>\n",
    "```"
   ]
  },
  {
   "cell_type": "markdown",
   "metadata": {},
   "source": [
    "Inside your terminal you can move in&out of the folders. You normally start in the ```root```, from here, you can type <br>\n",
    "```shell\n",
    "(base) C:\\Users\\Computer> cd Desktop\\\n",
    "```\n",
    "to move into your desktop and \n",
    "```shell\n",
    "(base) C:\\Users\\Computer> dir\n",
    "```\n",
    "lets you display the directories (and files) in the current folder"
   ]
  },
  {
   "cell_type": "markdown",
   "metadata": {},
   "source": [
    "**Let's create an environment** you can choose whatever name you like instead of NAMEOFENV <br>\n",
    "```shell\n",
    "(base) C:\\Users\\Computer> conda create -n NAMEOFENV\n",
    "```\n",
    "or if you didnt activate the base. (it really doesn't matter at this point)\n",
    "```shell\n",
    "C:\\Users\\Computer> conda create -n NAMEOFENV\n",
    "```\n",
    "\n",
    "here the ```-n``` is a flag indicating the following argument, which is the name of the environment in this case. <br>\n",
    "Now that we created our new environment. We can activate this one."
   ]
  },
  {
   "cell_type": "markdown",
   "metadata": {},
   "source": [
    "```shell\n",
    "C:\\Users\\Computer> conda activate NAMEOFENV\n",
    "```\n",
    "after executing this you should be seeing\n",
    "\n",
    "```shell\n",
    "(NAMEOFENV) C:\\Users\\Computer>\n",
    "```"
   ]
  },
  {
   "cell_type": "markdown",
   "metadata": {},
   "source": [
    "<font color=green>  You succesfully created and activated your fresh new environment! </font>"
   ]
  },
  {
   "cell_type": "markdown",
   "metadata": {},
   "source": [
    "Now if we type ```conda list``` to list all the existing packages we would see nothing as we have not yet installed anything. <br>\n",
    "Go ahead and try ```conda activate``` and ```conda deactivate``` commands to switch between your new environment and the base. <br>\n",
    "Notice if you just say 'conda activate' it deafults to base. If you say 'conda activate X' it looks for an environment named X. <br>\n",
    "\n",
    "Try listing the packages installed in base. In the next step, we will load new packages to our environment.\n",
    "\n",
    "---\n"
   ]
  },
  {
   "cell_type": "markdown",
   "metadata": {},
   "source": [
    "Let's have our ```NAMEOFENV``` activated environment and install desired packages. <br>\n",
    "\n",
    "```shell\n",
    "(NAMEOFENV) C:\\Users\\Computer> conda install matplotlib\n",
    "```\n",
    "It will tell you what it is going to install and ask for confirmation. Type ```y``` and continue. Now you have matplotlib and its dependencies. Notice that conda install several packages that matplotlib needs and not only the matplotlib. <br>\n",
    "pip however have a different behaviour."
   ]
  },
  {
   "cell_type": "markdown",
   "metadata": {},
   "source": [
    "> If you have a ```requirements.txt``` file with packages specified. You can install them from this file using\n",
    ">>```shell\n",
    ">>(NAMEOFENV) C:\\Users\\Computer>conda install --file requirements.txt\n",
    ">>```\n",
    "\n",
    "> if you want to save your packages as ```requirements.txt```\n",
    ">>```shell\n",
    ">>(NAMEOFENV) C:\\Users\\Computer>conda list --export > requirements.txt\n",
    ">>```\n"
   ]
  },
  {
   "cell_type": "markdown",
   "metadata": {},
   "source": [
    "**Now, we have two options to make this environment accessible with jupyter notebooks**\n",
    "- Install notebook extension in this environment\n",
    "\n",
    "```shell\n",
    "(NAMEOFENV) C:\\Users\\Computer>conda install conda_nb\n",
    "(NAMEOFENV) C:\\Users\\Computer>jupyter notebook\n",
    "``` \n",
    "\n",
    "- Tell your python that you have created this environment and it should be accessible\n",
    "```shell\n",
    "(NAMEOFENV) C:\\Users\\Computer>python -m ipykernel install --user --name\n",
    "```\n",
    "After this, you can deactivate your environment and run jupyter notebook as you normally do. <br>\n",
    "When you try to create a new file in the notebook, you will see NAMEOFENV listed under the Python 3 option."
   ]
  },
  {
   "cell_type": "markdown",
   "metadata": {},
   "source": [
    "---\n",
    "\n",
    "You can then work on your project as you like. After you are done with your project, and you want to remove everything. You can delte the environment folder manually or;\n",
    "\n",
    "```shell\n",
    "(NAMEOFENV) C:\\Users\\Computer>conda deactivate\n",
    "C:\\Users\\Computer>conda env remove -n NAMEOFENV\n",
    "```\n",
    "\n",
    "After this, you will still have the environment listed in the kernels of the jupyter. To remove it run;\n",
    "\n",
    "```\n",
    "(base) C:\\Users\\Computer>jupyter kernelspec uninstall NAMEOFENV\n",
    "```\n",
    "\n",
    "If you want to list existing environments and kernels\n",
    "\n",
    "```\n",
    "(base) C:\\Users\\Computer>conda info --envs\n",
    "```\n",
    "\n",
    "```\n",
    "(base) C:\\Users\\Computer>jupyter kernelspec list\n",
    "```\n"
   ]
  },
  {
   "cell_type": "markdown",
   "metadata": {},
   "source": [
    "### <font color=blue> 1. Using pip  </font>"
   ]
  },
  {
   "cell_type": "markdown",
   "metadata": {},
   "source": [
    "- create\n",
    "```shell\n",
    "(base) C:\\Users\\Computer>python -m venv NAMEOFENV\n",
    "```\n",
    "- activate\n",
    "```shell\n",
    "(base) C:\\Users\\Computer>NAMEOFENV\\Scripts\\activate.bat\n",
    "```\n",
    "- install stuff\n",
    "```shell\n",
    "(base) C:\\Users\\Computer> pip install matplotlib\n",
    "(base) C:\\Users\\Computer> pip install ipykernel\n",
    "```\n",
    "\n",
    "- add kernel\n",
    "```shell\n",
    "(base) C:\\Users\\Computer> ipython kernel install --name \"name-venv\" --user\n",
    "```\n",
    "\n",
    "- to save your packages\n",
    "```shell\n",
    "(base) C:\\Users\\Computer> pip freeze > requirements.txt\n",
    "```"
   ]
  },
  {
   "cell_type": "markdown",
   "metadata": {},
   "source": [
    "<br>\n",
    "<br>"
   ]
  },
  {
   "cell_type": "markdown",
   "metadata": {},
   "source": [
    "In the following notebooks we will explore data from kaggle and create a workflow step-by-step. <br>\n",
    "In the first Netflix-Movies.ipynb we will explore the data and create some functions. Later, we will create a simple _library_ of our own. <br>\n",
    "Next, we will use this library in the Netflix-Movies-2.ipynb to explore further things. "
   ]
  },
  {
   "cell_type": "code",
   "execution_count": null,
   "metadata": {},
   "outputs": [],
   "source": []
  }
 ],
 "metadata": {
  "kernelspec": {
   "display_name": "myenv",
   "language": "python",
   "name": "myenv"
  },
  "language_info": {
   "codemirror_mode": {
    "name": "ipython",
    "version": 3
   },
   "file_extension": ".py",
   "mimetype": "text/x-python",
   "name": "python",
   "nbconvert_exporter": "python",
   "pygments_lexer": "ipython3",
   "version": "3.8.5"
  }
 },
 "nbformat": 4,
 "nbformat_minor": 4
}
